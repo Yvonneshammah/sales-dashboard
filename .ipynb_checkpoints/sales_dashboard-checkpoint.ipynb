{
 "cells": [
  {
   "cell_type": "code",
   "execution_count": 1,
   "id": "0d397ffb",
   "metadata": {},
   "outputs": [
    {
     "data": {
      "text/html": [
       "<div>\n",
       "<style scoped>\n",
       "    .dataframe tbody tr th:only-of-type {\n",
       "        vertical-align: middle;\n",
       "    }\n",
       "\n",
       "    .dataframe tbody tr th {\n",
       "        vertical-align: top;\n",
       "    }\n",
       "\n",
       "    .dataframe thead th {\n",
       "        text-align: right;\n",
       "    }\n",
       "</style>\n",
       "<table border=\"1\" class=\"dataframe\">\n",
       "  <thead>\n",
       "    <tr style=\"text-align: right;\">\n",
       "      <th></th>\n",
       "      <th>Date</th>\n",
       "      <th>Region</th>\n",
       "      <th>Product</th>\n",
       "      <th>Sales</th>\n",
       "      <th>Profit</th>\n",
       "    </tr>\n",
       "  </thead>\n",
       "  <tbody>\n",
       "    <tr>\n",
       "      <th>0</th>\n",
       "      <td>2023-01-01</td>\n",
       "      <td>North</td>\n",
       "      <td>A</td>\n",
       "      <td>505</td>\n",
       "      <td>76</td>\n",
       "    </tr>\n",
       "    <tr>\n",
       "      <th>1</th>\n",
       "      <td>2023-01-02</td>\n",
       "      <td>South</td>\n",
       "      <td>B</td>\n",
       "      <td>622</td>\n",
       "      <td>310</td>\n",
       "    </tr>\n",
       "    <tr>\n",
       "      <th>2</th>\n",
       "      <td>2023-01-03</td>\n",
       "      <td>East</td>\n",
       "      <td>C</td>\n",
       "      <td>1343</td>\n",
       "      <td>322</td>\n",
       "    </tr>\n",
       "    <tr>\n",
       "      <th>3</th>\n",
       "      <td>2023-01-04</td>\n",
       "      <td>West</td>\n",
       "      <td>D</td>\n",
       "      <td>1000</td>\n",
       "      <td>287</td>\n",
       "    </tr>\n",
       "    <tr>\n",
       "      <th>4</th>\n",
       "      <td>2023-01-05</td>\n",
       "      <td>North</td>\n",
       "      <td>A</td>\n",
       "      <td>872</td>\n",
       "      <td>270</td>\n",
       "    </tr>\n",
       "  </tbody>\n",
       "</table>\n",
       "</div>"
      ],
      "text/plain": [
       "        Date Region Product  Sales  Profit\n",
       "0 2023-01-01  North       A    505      76\n",
       "1 2023-01-02  South       B    622     310\n",
       "2 2023-01-03   East       C   1343     322\n",
       "3 2023-01-04   West       D   1000     287\n",
       "4 2023-01-05  North       A    872     270"
      ]
     },
     "execution_count": 1,
     "metadata": {},
     "output_type": "execute_result"
    }
   ],
   "source": [
    "import pandas as pd\n",
    "import numpy as np  # ✅ use this instead of pd.np\n",
    "\n",
    "# Sample sales data\n",
    "data = {\n",
    "    'Date': pd.date_range(start='2023-01-01', periods=100, freq='D'),\n",
    "    'Region': ['North', 'South', 'East', 'West'] * 25,\n",
    "    'Product': ['A', 'B', 'C', 'D'] * 25,\n",
    "    'Sales': np.abs((1000 + 500 * np.random.randn(100)).astype(int)),\n",
    "    'Profit': np.abs((200 + 100 * np.random.randn(100)).astype(int))\n",
    "}\n",
    "\n",
    "df = pd.DataFrame(data)\n",
    "df.head()\n"
   ]
  },
  {
   "cell_type": "code",
   "execution_count": 2,
   "id": "726908a7",
   "metadata": {},
   "outputs": [
    {
     "name": "stderr",
     "output_type": "stream",
     "text": [
      "C:\\Users\\LENOVO\\anaconda3\\Lib\\site-packages\\dash\\dash.py:634: UserWarning:\n",
      "\n",
      "JupyterDash is deprecated, use Dash instead.\n",
      "See https://dash.plotly.com/dash-in-jupyter for more details.\n",
      "\n"
     ]
    }
   ],
   "source": [
    "from jupyter_dash import JupyterDash\n",
    "from dash import dcc, html, Input, Output\n",
    "import plotly.express as px\n",
    "\n",
    "# Initialize the Dash app\n",
    "app = JupyterDash(__name__)\n",
    "\n",
    "# App layout\n",
    "app.layout = html.Div([\n",
    "    html.H1(\"📊 Sales Dashboard\", style={'textAlign': 'center'}),\n",
    "    \n",
    "    html.Div([\n",
    "        html.Label(\"Select Region:\"),\n",
    "        dcc.Dropdown(\n",
    "            id='region-dropdown',\n",
    "            options=[{'label': r, 'value': r} for r in df['Region'].unique()],\n",
    "            value='North',\n",
    "            clearable=False\n",
    "        )\n",
    "    ], style={'width': '25%', 'display': 'inline-block'}),\n",
    "\n",
    "    html.Div([\n",
    "        html.Label(\"Select Product:\"),\n",
    "        dcc.Dropdown(\n",
    "            id='product-dropdown',\n",
    "            options=[{'label': p, 'value': p} for p in df['Product'].unique()],\n",
    "            value='A',\n",
    "            clearable=False\n",
    "        )\n",
    "    ], style={'width': '25%', 'display': 'inline-block', 'marginLeft': '20px'}),\n",
    "\n",
    "    dcc.Graph(id='sales-trend'),\n",
    "\n",
    "    dcc.Graph(id='profit-vs-sales')\n",
    "])\n"
   ]
  },
  {
   "cell_type": "code",
   "execution_count": 3,
   "id": "cc873e51",
   "metadata": {},
   "outputs": [],
   "source": [
    "@app.callback(\n",
    "    Output('sales-trend', 'figure'),\n",
    "    [Input('region-dropdown', 'value'),\n",
    "     Input('product-dropdown', 'value')]\n",
    ")\n",
    "def update_sales_trend(region, product):\n",
    "    filtered = df[(df['Region'] == region) & (df['Product'] == product)]\n",
    "    fig = px.line(filtered, x='Date', y='Sales', title='Sales Over Time')\n",
    "    return fig\n",
    "\n",
    "@app.callback(\n",
    "    Output('profit-vs-sales', 'figure'),\n",
    "    [Input('region-dropdown', 'value'),\n",
    "     Input('product-dropdown', 'value')]\n",
    ")\n",
    "def update_profit_vs_sales(region, product):\n",
    "    filtered = df[(df['Region'] == region) & (df['Product'] == product)]\n",
    "    fig = px.scatter(filtered, x='Sales', y='Profit', size='Sales', color='Date',\n",
    "                     title='Profit vs Sales')\n",
    "    return fig\n"
   ]
  },
  {
   "cell_type": "code",
   "execution_count": 4,
   "id": "19a8885c",
   "metadata": {},
   "outputs": [
    {
     "data": {
      "text/html": [
       "\n",
       "        <iframe\n",
       "            width=\"100%\"\n",
       "            height=\"650\"\n",
       "            src=\"http://127.0.0.1:8050/\"\n",
       "            frameborder=\"0\"\n",
       "            allowfullscreen\n",
       "            \n",
       "        ></iframe>\n",
       "        "
      ],
      "text/plain": [
       "<IPython.lib.display.IFrame at 0x1ca1a64e010>"
      ]
     },
     "metadata": {},
     "output_type": "display_data"
    }
   ],
   "source": [
    "# Run the dashboard app inline\n",
    "app.run(mode='inline', debug=True)\n"
   ]
  },
  {
   "cell_type": "code",
   "execution_count": null,
   "id": "63deb298",
   "metadata": {},
   "outputs": [],
   "source": []
  }
 ],
 "metadata": {
  "kernelspec": {
   "display_name": "Python 3 (ipykernel)",
   "language": "python",
   "name": "python3"
  },
  "language_info": {
   "codemirror_mode": {
    "name": "ipython",
    "version": 3
   },
   "file_extension": ".py",
   "mimetype": "text/x-python",
   "name": "python",
   "nbconvert_exporter": "python",
   "pygments_lexer": "ipython3",
   "version": "3.11.5"
  }
 },
 "nbformat": 4,
 "nbformat_minor": 5
}
